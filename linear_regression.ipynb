{
 "cells": [
  {
   "cell_type": "markdown",
   "source": [
    "# Exploratory Analysis with Linear Regression\n",
    "\n",
    "## Shooting Incidents in New York since 2006\n",
    "\n",
    "## Author: Davee Sok  \n"
   ],
   "metadata": {}
  },
  {
   "cell_type": "markdown",
   "source": [
    "# Notebook Imports\n"
   ],
   "metadata": {}
  },
  {
   "cell_type": "code",
   "execution_count": 1,
   "source": [
    "import pandas as pd\n",
    "import matplotlib.pyplot as plt\n",
    "from sklearn.linear_model import LinearRegression\n",
    "from sklearn.model_selection import train_test_split\n",
    "import datetime as dt"
   ],
   "outputs": [],
   "metadata": {}
  },
  {
   "cell_type": "markdown",
   "source": [
    "# Load The Data\n"
   ],
   "metadata": {}
  },
  {
   "cell_type": "code",
   "execution_count": 83,
   "source": [
    "# Show the first 5 rows\n",
    "df = pd.read_csv('NYPD_Shooting_Incident_2006-2021.csv')\n",
    "# Cast Date column into datetime object in dataframe\n",
    "df['Date'] = pd.to_datetime(df['OCCUR_DATE'])\n",
    "df.head()"
   ],
   "outputs": [
    {
     "output_type": "execute_result",
     "data": {
      "text/plain": [
       "   INCIDENT_KEY OCCUR_DATE OCCUR_TIME       BORO  PRECINCT  JURISDICTION_CODE  \\\n",
       "0     226323781  3/30/2021   23:45:00     QUEENS       100                0.0   \n",
       "1     226323779  3/30/2021   16:20:00   BROOKLYN        73                2.0   \n",
       "2     226323782  3/30/2021   23:15:00      BRONX        42                2.0   \n",
       "3     226321042  3/30/2021   13:35:00  MANHATTAN         7                0.0   \n",
       "4     226320600  3/30/2021   22:23:00      BRONX        45                0.0   \n",
       "\n",
       "               LOCATION_DESC  STATISTICAL_MURDER_FLAG PERP_AGE_GROUP PERP_SEX  \\\n",
       "0  MULTI DWELL - PUBLIC HOUS                    False            NaN      NaN   \n",
       "1  MULTI DWELL - PUBLIC HOUS                    False          25-44        M   \n",
       "2  MULTI DWELL - PUBLIC HOUS                    False            NaN      NaN   \n",
       "3                        NaN                    False          18-24        M   \n",
       "4                        NaN                     True            NaN      NaN   \n",
       "\n",
       "  PERP_RACE VIC_AGE_GROUP VIC_SEX        VIC_RACE X_COORD_CD Y_COORD_CD  \\\n",
       "0       NaN         25-44       M           BLACK    1036867     153432   \n",
       "1     BLACK         25-44       M           BLACK    1009548     187629   \n",
       "2       NaN         18-24       M           BLACK    1012074     240410   \n",
       "3     BLACK         18-24       M           BLACK     987721     202253   \n",
       "4       NaN         18-24       M  BLACK HISPANIC    1032091     241976   \n",
       "\n",
       "    Latitude  Longitude                                        Lon_Lat  \\\n",
       "0  40.587664 -73.810560  POINT (-73.81055977899997 40.587663570000075)   \n",
       "1  40.681647 -73.908790   POINT (-73.90879049699998 40.68164709200005)   \n",
       "2  40.826510 -73.899465   POINT (-73.89946470899997 40.82650984800006)   \n",
       "3  40.721822 -73.987479   POINT (-73.98747935099993 40.72182201900005)   \n",
       "4  40.830722 -73.827126   POINT (-73.82712605899997 40.83072232800004)   \n",
       "\n",
       "        Date  \n",
       "0 2021-03-30  \n",
       "1 2021-03-30  \n",
       "2 2021-03-30  \n",
       "3 2021-03-30  \n",
       "4 2021-03-30  "
      ],
      "text/html": [
       "<div>\n",
       "<style scoped>\n",
       "    .dataframe tbody tr th:only-of-type {\n",
       "        vertical-align: middle;\n",
       "    }\n",
       "\n",
       "    .dataframe tbody tr th {\n",
       "        vertical-align: top;\n",
       "    }\n",
       "\n",
       "    .dataframe thead th {\n",
       "        text-align: right;\n",
       "    }\n",
       "</style>\n",
       "<table border=\"1\" class=\"dataframe\">\n",
       "  <thead>\n",
       "    <tr style=\"text-align: right;\">\n",
       "      <th></th>\n",
       "      <th>INCIDENT_KEY</th>\n",
       "      <th>OCCUR_DATE</th>\n",
       "      <th>OCCUR_TIME</th>\n",
       "      <th>BORO</th>\n",
       "      <th>PRECINCT</th>\n",
       "      <th>JURISDICTION_CODE</th>\n",
       "      <th>LOCATION_DESC</th>\n",
       "      <th>STATISTICAL_MURDER_FLAG</th>\n",
       "      <th>PERP_AGE_GROUP</th>\n",
       "      <th>PERP_SEX</th>\n",
       "      <th>PERP_RACE</th>\n",
       "      <th>VIC_AGE_GROUP</th>\n",
       "      <th>VIC_SEX</th>\n",
       "      <th>VIC_RACE</th>\n",
       "      <th>X_COORD_CD</th>\n",
       "      <th>Y_COORD_CD</th>\n",
       "      <th>Latitude</th>\n",
       "      <th>Longitude</th>\n",
       "      <th>Lon_Lat</th>\n",
       "      <th>Date</th>\n",
       "    </tr>\n",
       "  </thead>\n",
       "  <tbody>\n",
       "    <tr>\n",
       "      <th>0</th>\n",
       "      <td>226323781</td>\n",
       "      <td>3/30/2021</td>\n",
       "      <td>23:45:00</td>\n",
       "      <td>QUEENS</td>\n",
       "      <td>100</td>\n",
       "      <td>0.0</td>\n",
       "      <td>MULTI DWELL - PUBLIC HOUS</td>\n",
       "      <td>False</td>\n",
       "      <td>NaN</td>\n",
       "      <td>NaN</td>\n",
       "      <td>NaN</td>\n",
       "      <td>25-44</td>\n",
       "      <td>M</td>\n",
       "      <td>BLACK</td>\n",
       "      <td>1036867</td>\n",
       "      <td>153432</td>\n",
       "      <td>40.587664</td>\n",
       "      <td>-73.810560</td>\n",
       "      <td>POINT (-73.81055977899997 40.587663570000075)</td>\n",
       "      <td>2021-03-30</td>\n",
       "    </tr>\n",
       "    <tr>\n",
       "      <th>1</th>\n",
       "      <td>226323779</td>\n",
       "      <td>3/30/2021</td>\n",
       "      <td>16:20:00</td>\n",
       "      <td>BROOKLYN</td>\n",
       "      <td>73</td>\n",
       "      <td>2.0</td>\n",
       "      <td>MULTI DWELL - PUBLIC HOUS</td>\n",
       "      <td>False</td>\n",
       "      <td>25-44</td>\n",
       "      <td>M</td>\n",
       "      <td>BLACK</td>\n",
       "      <td>25-44</td>\n",
       "      <td>M</td>\n",
       "      <td>BLACK</td>\n",
       "      <td>1009548</td>\n",
       "      <td>187629</td>\n",
       "      <td>40.681647</td>\n",
       "      <td>-73.908790</td>\n",
       "      <td>POINT (-73.90879049699998 40.68164709200005)</td>\n",
       "      <td>2021-03-30</td>\n",
       "    </tr>\n",
       "    <tr>\n",
       "      <th>2</th>\n",
       "      <td>226323782</td>\n",
       "      <td>3/30/2021</td>\n",
       "      <td>23:15:00</td>\n",
       "      <td>BRONX</td>\n",
       "      <td>42</td>\n",
       "      <td>2.0</td>\n",
       "      <td>MULTI DWELL - PUBLIC HOUS</td>\n",
       "      <td>False</td>\n",
       "      <td>NaN</td>\n",
       "      <td>NaN</td>\n",
       "      <td>NaN</td>\n",
       "      <td>18-24</td>\n",
       "      <td>M</td>\n",
       "      <td>BLACK</td>\n",
       "      <td>1012074</td>\n",
       "      <td>240410</td>\n",
       "      <td>40.826510</td>\n",
       "      <td>-73.899465</td>\n",
       "      <td>POINT (-73.89946470899997 40.82650984800006)</td>\n",
       "      <td>2021-03-30</td>\n",
       "    </tr>\n",
       "    <tr>\n",
       "      <th>3</th>\n",
       "      <td>226321042</td>\n",
       "      <td>3/30/2021</td>\n",
       "      <td>13:35:00</td>\n",
       "      <td>MANHATTAN</td>\n",
       "      <td>7</td>\n",
       "      <td>0.0</td>\n",
       "      <td>NaN</td>\n",
       "      <td>False</td>\n",
       "      <td>18-24</td>\n",
       "      <td>M</td>\n",
       "      <td>BLACK</td>\n",
       "      <td>18-24</td>\n",
       "      <td>M</td>\n",
       "      <td>BLACK</td>\n",
       "      <td>987721</td>\n",
       "      <td>202253</td>\n",
       "      <td>40.721822</td>\n",
       "      <td>-73.987479</td>\n",
       "      <td>POINT (-73.98747935099993 40.72182201900005)</td>\n",
       "      <td>2021-03-30</td>\n",
       "    </tr>\n",
       "    <tr>\n",
       "      <th>4</th>\n",
       "      <td>226320600</td>\n",
       "      <td>3/30/2021</td>\n",
       "      <td>22:23:00</td>\n",
       "      <td>BRONX</td>\n",
       "      <td>45</td>\n",
       "      <td>0.0</td>\n",
       "      <td>NaN</td>\n",
       "      <td>True</td>\n",
       "      <td>NaN</td>\n",
       "      <td>NaN</td>\n",
       "      <td>NaN</td>\n",
       "      <td>18-24</td>\n",
       "      <td>M</td>\n",
       "      <td>BLACK HISPANIC</td>\n",
       "      <td>1032091</td>\n",
       "      <td>241976</td>\n",
       "      <td>40.830722</td>\n",
       "      <td>-73.827126</td>\n",
       "      <td>POINT (-73.82712605899997 40.83072232800004)</td>\n",
       "      <td>2021-03-30</td>\n",
       "    </tr>\n",
       "  </tbody>\n",
       "</table>\n",
       "</div>"
      ]
     },
     "metadata": {},
     "execution_count": 83
    }
   ],
   "metadata": {}
  },
  {
   "cell_type": "code",
   "execution_count": 102,
   "source": [
    "shootings_by_year_df = df.groupby(df.Date.dt.year).count()['Date'][0:-1]\n",
    "shootings_by_year_df"
   ],
   "outputs": [
    {
     "output_type": "execute_result",
     "data": {
      "text/plain": [
       "Date\n",
       "2006    2055\n",
       "2007    1887\n",
       "2008    1958\n",
       "2009    1828\n",
       "2010    1910\n",
       "2011    1939\n",
       "2012    1717\n",
       "2013    1339\n",
       "2014    1464\n",
       "2015    1434\n",
       "2016    1208\n",
       "2017     969\n",
       "2018     951\n",
       "2019     967\n",
       "2020    1942\n",
       "Name: Date, dtype: int64"
      ]
     },
     "metadata": {},
     "execution_count": 102
    }
   ],
   "metadata": {}
  },
  {
   "cell_type": "markdown",
   "source": [
    "# Get Data Into the Way We Need\n"
   ],
   "metadata": {}
  },
  {
   "cell_type": "code",
   "execution_count": 89,
   "source": [
    "X = shootings_by_year_df.index.values\n",
    "y = shootings_by_year_df.values"
   ],
   "outputs": [],
   "metadata": {}
  },
  {
   "cell_type": "code",
   "execution_count": 90,
   "source": [
    "# X Data - Years from 2006 to 2020\n",
    "X"
   ],
   "outputs": [
    {
     "output_type": "execute_result",
     "data": {
      "text/plain": [
       "array([2006, 2007, 2008, 2009, 2010, 2011, 2012, 2013, 2014, 2015, 2016,\n",
       "       2017, 2018, 2019, 2020])"
      ]
     },
     "metadata": {},
     "execution_count": 90
    }
   ],
   "metadata": {}
  },
  {
   "cell_type": "code",
   "execution_count": 87,
   "source": [
    "# y Data - Amount of Shootings\n",
    "y"
   ],
   "outputs": [
    {
     "output_type": "execute_result",
     "data": {
      "text/plain": [
       "array([2055, 1887, 1958, 1828, 1910, 1939, 1717, 1339, 1464, 1434, 1208,\n",
       "        969,  951,  967, 1942])"
      ]
     },
     "metadata": {},
     "execution_count": 87
    }
   ],
   "metadata": {}
  },
  {
   "cell_type": "code",
   "execution_count": 91,
   "source": [
    "X = X.reshape(-1,1)\n",
    "X"
   ],
   "outputs": [
    {
     "output_type": "execute_result",
     "data": {
      "text/plain": [
       "array([[2006],\n",
       "       [2007],\n",
       "       [2008],\n",
       "       [2009],\n",
       "       [2010],\n",
       "       [2011],\n",
       "       [2012],\n",
       "       [2013],\n",
       "       [2014],\n",
       "       [2015],\n",
       "       [2016],\n",
       "       [2017],\n",
       "       [2018],\n",
       "       [2019],\n",
       "       [2020]])"
      ]
     },
     "metadata": {},
     "execution_count": 91
    }
   ],
   "metadata": {}
  },
  {
   "cell_type": "code",
   "execution_count": 92,
   "source": [
    "x_train, x_test, y_train, y_test = train_test_split(X, y, train_size=.8, test_size=.2, random_state=100)"
   ],
   "outputs": [],
   "metadata": {}
  },
  {
   "cell_type": "markdown",
   "source": [
    "# Validate Shape of Test/Train Data\n"
   ],
   "metadata": {}
  },
  {
   "cell_type": "code",
   "execution_count": 93,
   "source": [
    "print(f'X-Train Shape [{x_train.shape}]')\n"
   ],
   "outputs": [
    {
     "output_type": "stream",
     "name": "stdout",
     "text": [
      "X-Train Shape [(12, 1)]\n"
     ]
    }
   ],
   "metadata": {}
  },
  {
   "cell_type": "code",
   "execution_count": 94,
   "source": [
    "print(f'Y-Train Shape [{y_train.shape}]')"
   ],
   "outputs": [
    {
     "output_type": "stream",
     "name": "stdout",
     "text": [
      "Y-Train Shape [(12,)]\n"
     ]
    }
   ],
   "metadata": {}
  },
  {
   "cell_type": "code",
   "execution_count": 103,
   "source": [
    "print(f'X-Test Shape [{x_test.shape}]')"
   ],
   "outputs": [
    {
     "output_type": "stream",
     "name": "stdout",
     "text": [
      "X-Test Shape [(3, 1)]\n"
     ]
    }
   ],
   "metadata": {}
  },
  {
   "cell_type": "code",
   "execution_count": 96,
   "source": [
    "print(f'Y-Test Shape [{y_train.shape}]')"
   ],
   "outputs": [
    {
     "output_type": "stream",
     "name": "stdout",
     "text": [
      "Y-Test Shape [(12,)]\n"
     ]
    }
   ],
   "metadata": {}
  },
  {
   "cell_type": "markdown",
   "source": [
    "# Plot Some Data\n"
   ],
   "metadata": {}
  },
  {
   "cell_type": "code",
   "execution_count": 97,
   "source": [
    "plt.scatter(x_train, y_train, color='red')\n",
    "plt.xlabel('Years')\n",
    "plt.ylabel('Shootings Per Year')\n",
    "plt.title('Shootings by Criminals in New York')"
   ],
   "outputs": [
    {
     "output_type": "execute_result",
     "data": {
      "text/plain": [
       "Text(0.5, 1.0, 'Shootings by Criminals in New York')"
      ]
     },
     "metadata": {},
     "execution_count": 97
    },
    {
     "output_type": "display_data",
     "data": {
      "text/plain": [
       "<Figure size 432x288 with 1 Axes>"
      ],
      "image/png": "[encoded data removed]"
     },
     "metadata": {
      "needs_background": "light"
     }
    }
   ],
   "metadata": {}
  },
  {
   "cell_type": "code",
   "execution_count": 98,
   "source": [
    "lm = LinearRegression()\n",
    "lm.fit(x_train, y_train)\n",
    "y_predict = lm.predict(x_test)"
   ],
   "outputs": [],
   "metadata": {}
  },
  {
   "cell_type": "code",
   "execution_count": 99,
   "source": [
    "print(f'Training Accuracy {round(lm.score(x_train, y_train) * 100,2)}%')\n",
    "print(f'Test Accuracy {round(lm.score(x_test, y_test) * 100,2)}%')"
   ],
   "outputs": [
    {
     "output_type": "stream",
     "name": "stdout",
     "text": [
      "Training Accuracy 43.44%\n",
      "Test Accuracy 69.7%\n"
     ]
    }
   ],
   "metadata": {}
  },
  {
   "cell_type": "code",
   "execution_count": 101,
   "source": [
    "plt.scatter(x_train, y_train, color='red')\n",
    "plt.plot(x_test, y_predict)\n",
    "plt.xlabel('Years')\n",
    "plt.ylabel('Amount of Shootings')\n",
    "plt.title('Trained Model Plot')\n",
    "plt.plot"
   ],
   "outputs": [
    {
     "output_type": "execute_result",
     "data": {
      "text/plain": [
       "<function matplotlib.pyplot.plot(*args, scalex=True, scaley=True, data=None, **kwargs)>"
      ]
     },
     "metadata": {},
     "execution_count": 101
    },
    {
     "output_type": "display_data",
     "data": {
      "text/plain": [
       "<Figure size 432x288 with 1 Axes>"
      ],
      "image/png": "[encoded data removed]"
     },
     "metadata": {
      "needs_background": "light"
     }
    }
   ],
   "metadata": {}
  },
  {
   "cell_type": "markdown",
   "source": [
    "# Three Conclusions from the Data?\n",
    "\n",
    "- Shootings have been going down since 2006\n",
    "- Shootings spiked up by a large amount in 2020\n",
    "- 2020 Shootings were close to how they were between 2008 - 2011\n"
   ],
   "metadata": {}
  }
 ],
 "metadata": {
  "orig_nbformat": 4,
  "language_info": {
   "name": "python"
  }
 },
 "nbformat": 4,
 "nbformat_minor": 2
}